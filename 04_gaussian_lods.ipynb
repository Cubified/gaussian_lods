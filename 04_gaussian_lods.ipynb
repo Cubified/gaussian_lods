{
 "cells": [
  {
   "cell_type": "code",
   "execution_count": 1,
   "id": "238b6ca7",
   "metadata": {},
   "outputs": [
    {
     "name": "stdout",
     "output_type": "stream",
     "text": [
      "Setting up [LPIPS] perceptual loss: trunk [vgg], v[0.1], spatial [off]\n"
     ]
    },
    {
     "name": "stderr",
     "output_type": "stream",
     "text": [
      "/home/andrew/anaconda3/envs/gaussian_splatting/lib/python3.7/site-packages/torchvision/models/_utils.py:209: UserWarning: The parameter 'pretrained' is deprecated since 0.13 and will be removed in 0.15, please use 'weights' instead.\n",
      "  f\"The parameter '{pretrained_param}' is deprecated since 0.13 and will be removed in 0.15, \"\n",
      "/home/andrew/anaconda3/envs/gaussian_splatting/lib/python3.7/site-packages/torchvision/models/_utils.py:223: UserWarning: Arguments other than a weight enum or `None` for 'weights' are deprecated since 0.13 and will be removed in 0.15. The current behavior is equivalent to passing `weights=VGG16_Weights.IMAGENET1K_V1`. You can also use `weights=VGG16_Weights.DEFAULT` to get the most up-to-date weights.\n",
      "  warnings.warn(msg)\n",
      "Downloading: \"https://download.pytorch.org/models/vgg16-397923af.pth\" to /home/andrew/.cache/torch/hub/checkpoints/vgg16-397923af.pth\n"
     ]
    },
    {
     "data": {
      "application/vnd.jupyter.widget-view+json": {
       "model_id": "17cdd1454de24a3783a1773614acf497",
       "version_major": 2,
       "version_minor": 0
      },
      "text/plain": [
       "  0%|          | 0.00/528M [00:00<?, ?B/s]"
      ]
     },
     "metadata": {},
     "output_type": "display_data"
    },
    {
     "name": "stdout",
     "output_type": "stream",
     "text": [
      "Loading model from: /home/andrew/anaconda3/envs/gaussian_splatting/lib/python3.7/site-packages/lpips/weights/v0.1/vgg.pth\n"
     ]
    }
   ],
   "source": [
    "import torch\n",
    "import lpips\n",
    "\n",
    "lpips_model = lpips.LPIPS(net='vgg').cuda()\n",
    "\n",
    "def optimize_gaussians(fixed_gaussians, full_gaussians, optimizer, num_steps=500):\n",
    "    for step in range(num_steps):\n",
    "        optimizer.zero_grad()\n",
    "        \n",
    "        # Render both full and downsampled Gaussians\n",
    "        full_render = render_gaussians(full_gaussians)\n",
    "        fixed_render = render_gaussians(fixed_gaussians)\n",
    "        \n",
    "        # Compute loss\n",
    "        mse_loss = torch.nn.functional.mse_loss(fixed_render, full_render)\n",
    "        perceptual_loss = lpips_model(fixed_render, full_render).mean()\n",
    "        \n",
    "        # Total loss\n",
    "        loss = mse_loss + 0.1 * perceptual_loss  # Tune weights\n",
    "        \n",
    "        loss.backward()\n",
    "        optimizer.step()\n",
    "        \n",
    "        if step % 50 == 0:\n",
    "            print(f\"Step {step}: Loss = {loss.item()}\")\n",
    "\n",
    "    return fixed_gaussians"
   ]
  },
  {
   "cell_type": "code",
   "execution_count": null,
   "id": "d89404a4",
   "metadata": {},
   "outputs": [],
   "source": []
  }
 ],
 "metadata": {
  "kernelspec": {
   "display_name": "Python 3 (ipykernel)",
   "language": "python",
   "name": "python3"
  },
  "language_info": {
   "codemirror_mode": {
    "name": "ipython",
    "version": 3
   },
   "file_extension": ".py",
   "mimetype": "text/x-python",
   "name": "python",
   "nbconvert_exporter": "python",
   "pygments_lexer": "ipython3",
   "version": "3.7.13"
  }
 },
 "nbformat": 4,
 "nbformat_minor": 5
}
